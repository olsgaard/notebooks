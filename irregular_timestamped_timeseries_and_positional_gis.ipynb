{
 "cells": [
  {
   "cell_type": "markdown",
   "id": "d3a94adb",
   "metadata": {},
   "source": [
    "# Irregular timeseries data and positional GIS\n",
    "*with examples in Pandas*\n",
    "\n",
    "Most timeseries data revolves around regularly sampled data. Examples in Pandas and matplotlib documentation shows timeseries examples with `NA` values together with a timestamp for missing datapoints. More commonly, missing datapoints results in there just not being row at all.\n",
    "\n",
    "- How to take an average with missing times\n",
    "- Display missing times when plotting\n",
    "\n",
    "- list irregular events on a map\n",
    "- Annotate events based on order of events"
   ]
  },
  {
   "cell_type": "code",
   "execution_count": null,
   "id": "8238883d",
   "metadata": {},
   "outputs": [],
   "source": []
  }
 ],
 "metadata": {
  "kernelspec": {
   "display_name": "Python 3 (ipykernel)",
   "language": "python",
   "name": "python3"
  },
  "language_info": {
   "codemirror_mode": {
    "name": "ipython",
    "version": 3
   },
   "file_extension": ".py",
   "mimetype": "text/x-python",
   "name": "python",
   "nbconvert_exporter": "python",
   "pygments_lexer": "ipython3",
   "version": "3.9.13"
  }
 },
 "nbformat": 4,
 "nbformat_minor": 5
}

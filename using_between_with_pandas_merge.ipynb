{
 "cells": [
  {
   "cell_type": "markdown",
   "id": "cb1e79ee",
   "metadata": {},
   "source": [
    "# Merging dataframe using with key being between 2 dates\n",
    "\n",
    "## links / sources\n",
    "- https://stackoverflow.com/questions/30627968/merge-pandas-dataframes-where-one-value-is-between-two-others"
   ]
  },
  {
   "cell_type": "code",
   "execution_count": 1,
   "id": "6c402010",
   "metadata": {},
   "outputs": [],
   "source": [
    "import pandas as pd"
   ]
  },
  {
   "cell_type": "code",
   "execution_count": 50,
   "id": "ac6bb52d",
   "metadata": {},
   "outputs": [],
   "source": [
    "vacations = pd.DataFrame(dict(\n",
    "  vacation_name=(\"Summer\", \"Spring\"), \n",
    "  _from=pd.to_datetime([\"2022-06-05\", \"2022-04-01\"]),\n",
    "  _to=pd.to_datetime([\"2022-07-03\", \"2022-04-08\"])\n",
    "))"
   ]
  },
  {
   "cell_type": "code",
   "execution_count": 64,
   "id": "4f4d6b90",
   "metadata": {},
   "outputs": [],
   "source": [
    "events = pd.DataFrame(dict(\n",
    "  event_name=(\"Park\", \"Hike\", \"waterski\", \"Flower watching\", \"forest walk\"),\n",
    "  date=pd.to_datetime([\"2022-06-01\", \"2022-06-05\", \"2022-07-01\", \"2022-03-28\", \"2022-04-05\"]),\n",
    "))"
   ]
  },
  {
   "cell_type": "code",
   "execution_count": 30,
   "id": "f48106be",
   "metadata": {},
   "outputs": [
    {
     "data": {
      "text/html": [
       "<div>\n",
       "<style scoped>\n",
       "    .dataframe tbody tr th:only-of-type {\n",
       "        vertical-align: middle;\n",
       "    }\n",
       "\n",
       "    .dataframe tbody tr th {\n",
       "        vertical-align: top;\n",
       "    }\n",
       "\n",
       "    .dataframe thead th {\n",
       "        text-align: right;\n",
       "    }\n",
       "</style>\n",
       "<table border=\"1\" class=\"dataframe\">\n",
       "  <thead>\n",
       "    <tr style=\"text-align: right;\">\n",
       "      <th></th>\n",
       "      <th>vacation_name</th>\n",
       "      <th>_from</th>\n",
       "      <th>_to</th>\n",
       "    </tr>\n",
       "    <tr>\n",
       "      <th>interval</th>\n",
       "      <th></th>\n",
       "      <th></th>\n",
       "      <th></th>\n",
       "    </tr>\n",
       "  </thead>\n",
       "  <tbody>\n",
       "    <tr>\n",
       "      <th>[2022-06-05, 2022-07-03]</th>\n",
       "      <td>Summer</td>\n",
       "      <td>2022-06-05</td>\n",
       "      <td>2022-07-03</td>\n",
       "    </tr>\n",
       "    <tr>\n",
       "      <th>[2022-04-01, 2022-04-08]</th>\n",
       "      <td>Spring</td>\n",
       "      <td>2022-04-01</td>\n",
       "      <td>2022-04-08</td>\n",
       "    </tr>\n",
       "  </tbody>\n",
       "</table>\n",
       "</div>"
      ],
      "text/plain": [
       "                         vacation_name      _from        _to\n",
       "interval                                                    \n",
       "[2022-06-05, 2022-07-03]        Summer 2022-06-05 2022-07-03\n",
       "[2022-04-01, 2022-04-08]        Spring 2022-04-01 2022-04-08"
      ]
     },
     "execution_count": 30,
     "metadata": {},
     "output_type": "execute_result"
    }
   ],
   "source": [
    "vacations"
   ]
  },
  {
   "cell_type": "code",
   "execution_count": 33,
   "id": "bf6ac8aa",
   "metadata": {},
   "outputs": [
    {
     "data": {
      "text/html": [
       "<div>\n",
       "<style scoped>\n",
       "    .dataframe tbody tr th:only-of-type {\n",
       "        vertical-align: middle;\n",
       "    }\n",
       "\n",
       "    .dataframe tbody tr th {\n",
       "        vertical-align: top;\n",
       "    }\n",
       "\n",
       "    .dataframe thead th {\n",
       "        text-align: right;\n",
       "    }\n",
       "</style>\n",
       "<table border=\"1\" class=\"dataframe\">\n",
       "  <thead>\n",
       "    <tr style=\"text-align: right;\">\n",
       "      <th></th>\n",
       "      <th>event_name</th>\n",
       "    </tr>\n",
       "    <tr>\n",
       "      <th>date</th>\n",
       "      <th></th>\n",
       "    </tr>\n",
       "  </thead>\n",
       "  <tbody>\n",
       "    <tr>\n",
       "      <th>2022-06-01</th>\n",
       "      <td>Park</td>\n",
       "    </tr>\n",
       "    <tr>\n",
       "      <th>2022-06-05</th>\n",
       "      <td>Hike</td>\n",
       "    </tr>\n",
       "    <tr>\n",
       "      <th>2022-07-01</th>\n",
       "      <td>waterski</td>\n",
       "    </tr>\n",
       "    <tr>\n",
       "      <th>2022-03-28</th>\n",
       "      <td>Flower watching</td>\n",
       "    </tr>\n",
       "    <tr>\n",
       "      <th>2022-04-05</th>\n",
       "      <td>forest walk</td>\n",
       "    </tr>\n",
       "  </tbody>\n",
       "</table>\n",
       "</div>"
      ],
      "text/plain": [
       "                 event_name\n",
       "date                       \n",
       "2022-06-01             Park\n",
       "2022-06-05             Hike\n",
       "2022-07-01         waterski\n",
       "2022-03-28  Flower watching\n",
       "2022-04-05      forest walk"
      ]
     },
     "execution_count": 33,
     "metadata": {},
     "output_type": "execute_result"
    }
   ],
   "source": [
    "events"
   ]
  },
  {
   "cell_type": "markdown",
   "id": "8b77456e",
   "metadata": {},
   "source": [
    "## Method 1: Create `interval index`"
   ]
  },
  {
   "cell_type": "code",
   "execution_count": 52,
   "id": "35022478",
   "metadata": {},
   "outputs": [],
   "source": [
    "vacations['interval'] = pd.IntervalIndex.from_arrays(vacations._from, vacations._to, closed='both')\n",
    "vacations = vacations.set_index('interval')"
   ]
  },
  {
   "cell_type": "code",
   "execution_count": 62,
   "id": "ae96ad1d",
   "metadata": {},
   "outputs": [
    {
     "data": {
      "text/html": [
       "<div>\n",
       "<style scoped>\n",
       "    .dataframe tbody tr th:only-of-type {\n",
       "        vertical-align: middle;\n",
       "    }\n",
       "\n",
       "    .dataframe tbody tr th {\n",
       "        vertical-align: top;\n",
       "    }\n",
       "\n",
       "    .dataframe thead th {\n",
       "        text-align: right;\n",
       "    }\n",
       "</style>\n",
       "<table border=\"1\" class=\"dataframe\">\n",
       "  <thead>\n",
       "    <tr style=\"text-align: right;\">\n",
       "      <th></th>\n",
       "      <th>event_name</th>\n",
       "      <th>vacation_name</th>\n",
       "    </tr>\n",
       "    <tr>\n",
       "      <th>date</th>\n",
       "      <th></th>\n",
       "      <th></th>\n",
       "    </tr>\n",
       "  </thead>\n",
       "  <tbody>\n",
       "    <tr>\n",
       "      <th>2022-06-01</th>\n",
       "      <td>Park</td>\n",
       "      <td>NaN</td>\n",
       "    </tr>\n",
       "    <tr>\n",
       "      <th>2022-06-05</th>\n",
       "      <td>Hike</td>\n",
       "      <td>Summer</td>\n",
       "    </tr>\n",
       "    <tr>\n",
       "      <th>2022-07-01</th>\n",
       "      <td>waterski</td>\n",
       "      <td>Summer</td>\n",
       "    </tr>\n",
       "    <tr>\n",
       "      <th>2022-03-28</th>\n",
       "      <td>Flower watching</td>\n",
       "      <td>NaN</td>\n",
       "    </tr>\n",
       "    <tr>\n",
       "      <th>2022-04-05</th>\n",
       "      <td>forest walk</td>\n",
       "      <td>Spring</td>\n",
       "    </tr>\n",
       "  </tbody>\n",
       "</table>\n",
       "</div>"
      ],
      "text/plain": [
       "                 event_name vacation_name\n",
       "date                                     \n",
       "2022-06-01             Park           NaN\n",
       "2022-06-05             Hike        Summer\n",
       "2022-07-01         waterski        Summer\n",
       "2022-03-28  Flower watching           NaN\n",
       "2022-04-05      forest walk        Spring"
      ]
     },
     "execution_count": 62,
     "metadata": {},
     "output_type": "execute_result"
    }
   ],
   "source": [
    "# Non-mutating, left join only a single row\n",
    "\n",
    "events.assign(vacation_name = vacations['vacation_name'])"
   ]
  },
  {
   "cell_type": "code",
   "execution_count": 65,
   "id": "5ea08299",
   "metadata": {},
   "outputs": [],
   "source": [
    "def left_join_interval(left: pd.DataFrame, right: pd.DataFrame, _from: str, _to: str, _on: str = None):\n",
    "    \"\"\"\n",
    "    left:  pandas dataframe\n",
    "    right: pandas dataframe\n",
    "    _from: String. Name of the column containing the from dates.\n",
    "    _to:   String. Name of the column containing the to dates.\n",
    "    _on:   Name of the column containing the dates in the left dataframe that will be joined on. If `None`, use the index.\n",
    "    \"\"\"\n",
    "    \n",
    "    if _on is None:\n",
    "        left = left.copy()\n",
    "    else:\n",
    "        left = left.set_index(_on)\n",
    "    \n",
    "    right = right.set_index(\n",
    "        pd.IntervalIndex.from_arrays(right[_from], right[_to], closed='both')\n",
    "    )\n",
    "    right_cols = right.columns\n",
    "    left[right_cols] = right[right_cols]\n",
    "    \n",
    "    return left\n",
    "    "
   ]
  },
  {
   "cell_type": "markdown",
   "id": "c5059ed5",
   "metadata": {},
   "source": [
    "### Method 1.2: Mutating - overwrite rows in left dataframe"
   ]
  },
  {
   "cell_type": "code",
   "execution_count": 58,
   "id": "6e885573",
   "metadata": {},
   "outputs": [
    {
     "data": {
      "text/html": [
       "<div>\n",
       "<style scoped>\n",
       "    .dataframe tbody tr th:only-of-type {\n",
       "        vertical-align: middle;\n",
       "    }\n",
       "\n",
       "    .dataframe tbody tr th {\n",
       "        vertical-align: top;\n",
       "    }\n",
       "\n",
       "    .dataframe thead th {\n",
       "        text-align: right;\n",
       "    }\n",
       "</style>\n",
       "<table border=\"1\" class=\"dataframe\">\n",
       "  <thead>\n",
       "    <tr style=\"text-align: right;\">\n",
       "      <th></th>\n",
       "      <th>event_name</th>\n",
       "      <th>vacation_name</th>\n",
       "      <th>_from</th>\n",
       "      <th>_to</th>\n",
       "    </tr>\n",
       "    <tr>\n",
       "      <th>date</th>\n",
       "      <th></th>\n",
       "      <th></th>\n",
       "      <th></th>\n",
       "      <th></th>\n",
       "    </tr>\n",
       "  </thead>\n",
       "  <tbody>\n",
       "    <tr>\n",
       "      <th>2022-06-01</th>\n",
       "      <td>Park</td>\n",
       "      <td>NaN</td>\n",
       "      <td>NaT</td>\n",
       "      <td>NaT</td>\n",
       "    </tr>\n",
       "    <tr>\n",
       "      <th>2022-06-05</th>\n",
       "      <td>Hike</td>\n",
       "      <td>Summer</td>\n",
       "      <td>2022-06-05</td>\n",
       "      <td>2022-07-03</td>\n",
       "    </tr>\n",
       "    <tr>\n",
       "      <th>2022-07-01</th>\n",
       "      <td>waterski</td>\n",
       "      <td>Summer</td>\n",
       "      <td>2022-06-05</td>\n",
       "      <td>2022-07-03</td>\n",
       "    </tr>\n",
       "    <tr>\n",
       "      <th>2022-03-28</th>\n",
       "      <td>Flower watching</td>\n",
       "      <td>NaN</td>\n",
       "      <td>NaT</td>\n",
       "      <td>NaT</td>\n",
       "    </tr>\n",
       "    <tr>\n",
       "      <th>2022-04-05</th>\n",
       "      <td>forest walk</td>\n",
       "      <td>Spring</td>\n",
       "      <td>2022-04-01</td>\n",
       "      <td>2022-04-08</td>\n",
       "    </tr>\n",
       "  </tbody>\n",
       "</table>\n",
       "</div>"
      ],
      "text/plain": [
       "                 event_name vacation_name      _from        _to\n",
       "date                                                           \n",
       "2022-06-01             Park           NaN        NaT        NaT\n",
       "2022-06-05             Hike        Summer 2022-06-05 2022-07-03\n",
       "2022-07-01         waterski        Summer 2022-06-05 2022-07-03\n",
       "2022-03-28  Flower watching           NaN        NaT        NaT\n",
       "2022-04-05      forest walk        Spring 2022-04-01 2022-04-08"
      ]
     },
     "execution_count": 58,
     "metadata": {},
     "output_type": "execute_result"
    }
   ],
   "source": [
    "# Mutating, left join all rows\n",
    "\n",
    "cols = vacations.columns\n",
    "events[cols] = vacations[cols]\n",
    "events"
   ]
  },
  {
   "cell_type": "markdown",
   "id": "d0f375af",
   "metadata": {},
   "source": [
    "### Method 1.2: Using join"
   ]
  },
  {
   "cell_type": "code",
   "execution_count": 60,
   "id": "834b8750",
   "metadata": {},
   "outputs": [
    {
     "data": {
      "text/html": [
       "<div>\n",
       "<style scoped>\n",
       "    .dataframe tbody tr th:only-of-type {\n",
       "        vertical-align: middle;\n",
       "    }\n",
       "\n",
       "    .dataframe tbody tr th {\n",
       "        vertical-align: top;\n",
       "    }\n",
       "\n",
       "    .dataframe thead th {\n",
       "        text-align: right;\n",
       "    }\n",
       "</style>\n",
       "<table border=\"1\" class=\"dataframe\">\n",
       "  <thead>\n",
       "    <tr style=\"text-align: right;\">\n",
       "      <th></th>\n",
       "      <th>event_name</th>\n",
       "      <th>vacation_name</th>\n",
       "      <th>_from</th>\n",
       "      <th>_to</th>\n",
       "    </tr>\n",
       "    <tr>\n",
       "      <th>date</th>\n",
       "      <th></th>\n",
       "      <th></th>\n",
       "      <th></th>\n",
       "      <th></th>\n",
       "    </tr>\n",
       "  </thead>\n",
       "  <tbody>\n",
       "    <tr>\n",
       "      <th>2022-06-01 00:00:00</th>\n",
       "      <td>Park</td>\n",
       "      <td>NaN</td>\n",
       "      <td>NaT</td>\n",
       "      <td>NaT</td>\n",
       "    </tr>\n",
       "    <tr>\n",
       "      <th>2022-06-05 00:00:00</th>\n",
       "      <td>Hike</td>\n",
       "      <td>NaN</td>\n",
       "      <td>NaT</td>\n",
       "      <td>NaT</td>\n",
       "    </tr>\n",
       "    <tr>\n",
       "      <th>2022-07-01 00:00:00</th>\n",
       "      <td>waterski</td>\n",
       "      <td>NaN</td>\n",
       "      <td>NaT</td>\n",
       "      <td>NaT</td>\n",
       "    </tr>\n",
       "    <tr>\n",
       "      <th>2022-03-28 00:00:00</th>\n",
       "      <td>Flower watching</td>\n",
       "      <td>NaN</td>\n",
       "      <td>NaT</td>\n",
       "      <td>NaT</td>\n",
       "    </tr>\n",
       "    <tr>\n",
       "      <th>2022-04-05 00:00:00</th>\n",
       "      <td>forest walk</td>\n",
       "      <td>NaN</td>\n",
       "      <td>NaT</td>\n",
       "      <td>NaT</td>\n",
       "    </tr>\n",
       "  </tbody>\n",
       "</table>\n",
       "</div>"
      ],
      "text/plain": [
       "                          event_name vacation_name _from _to\n",
       "date                                                        \n",
       "2022-06-01 00:00:00             Park           NaN   NaT NaT\n",
       "2022-06-05 00:00:00             Hike           NaN   NaT NaT\n",
       "2022-07-01 00:00:00         waterski           NaN   NaT NaT\n",
       "2022-03-28 00:00:00  Flower watching           NaN   NaT NaT\n",
       "2022-04-05 00:00:00      forest walk           NaN   NaT NaT"
      ]
     },
     "execution_count": 60,
     "metadata": {},
     "output_type": "execute_result"
    }
   ],
   "source": [
    "events.join(vacations)"
   ]
  },
  {
   "cell_type": "code",
   "execution_count": 61,
   "id": "a77943eb",
   "metadata": {},
   "outputs": [
    {
     "data": {
      "text/html": [
       "<div>\n",
       "<style scoped>\n",
       "    .dataframe tbody tr th:only-of-type {\n",
       "        vertical-align: middle;\n",
       "    }\n",
       "\n",
       "    .dataframe tbody tr th {\n",
       "        vertical-align: top;\n",
       "    }\n",
       "\n",
       "    .dataframe thead th {\n",
       "        text-align: right;\n",
       "    }\n",
       "</style>\n",
       "<table border=\"1\" class=\"dataframe\">\n",
       "  <thead>\n",
       "    <tr style=\"text-align: right;\">\n",
       "      <th></th>\n",
       "      <th>event_name</th>\n",
       "      <th>vacation_name</th>\n",
       "    </tr>\n",
       "    <tr>\n",
       "      <th>date</th>\n",
       "      <th></th>\n",
       "      <th></th>\n",
       "    </tr>\n",
       "  </thead>\n",
       "  <tbody>\n",
       "    <tr>\n",
       "      <th>2022-06-01</th>\n",
       "      <td>Park</td>\n",
       "      <td>NaN</td>\n",
       "    </tr>\n",
       "    <tr>\n",
       "      <th>2022-06-05</th>\n",
       "      <td>Hike</td>\n",
       "      <td>Summer</td>\n",
       "    </tr>\n",
       "    <tr>\n",
       "      <th>2022-07-01</th>\n",
       "      <td>waterski</td>\n",
       "      <td>Summer</td>\n",
       "    </tr>\n",
       "    <tr>\n",
       "      <th>2022-03-28</th>\n",
       "      <td>Flower watching</td>\n",
       "      <td>NaN</td>\n",
       "    </tr>\n",
       "    <tr>\n",
       "      <th>2022-04-05</th>\n",
       "      <td>forest walk</td>\n",
       "      <td>Spring</td>\n",
       "    </tr>\n",
       "  </tbody>\n",
       "</table>\n",
       "</div>"
      ],
      "text/plain": [
       "                 event_name vacation_name\n",
       "date                                     \n",
       "2022-06-01             Park           NaN\n",
       "2022-06-05             Hike        Summer\n",
       "2022-07-01         waterski        Summer\n",
       "2022-03-28  Flower watching           NaN\n",
       "2022-04-05      forest walk        Spring"
      ]
     },
     "execution_count": 61,
     "metadata": {},
     "output_type": "execute_result"
    }
   ],
   "source": []
  },
  {
   "cell_type": "markdown",
   "id": "1719374e",
   "metadata": {},
   "source": [
    "## Method 2, using sql"
   ]
  },
  {
   "cell_type": "code",
   "execution_count": null,
   "id": "22933310",
   "metadata": {},
   "outputs": [],
   "source": []
  }
 ],
 "metadata": {
  "kernelspec": {
   "display_name": "Python 3 (ipykernel)",
   "language": "python",
   "name": "python3"
  },
  "language_info": {
   "codemirror_mode": {
    "name": "ipython",
    "version": 3
   },
   "file_extension": ".py",
   "mimetype": "text/x-python",
   "name": "python",
   "nbconvert_exporter": "python",
   "pygments_lexer": "ipython3",
   "version": "3.9.7"
  }
 },
 "nbformat": 4,
 "nbformat_minor": 5
}

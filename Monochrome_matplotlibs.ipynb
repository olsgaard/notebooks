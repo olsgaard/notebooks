{
 "cells": [
  {
   "cell_type": "markdown",
   "metadata": {},
   "source": [
    "# Monochrome (Black & white) plots in matplotlib\n",
    "\n",
    "While writing my thesis, I was annoyed that there wasn't any good default options for outputting monochrome plots, as I didn't count on being able to expect that all prints would be in color. I therefore wanted plots that could work without any greyscales.\n",
    "\n",
    "Right now this notebook describes how to setup and use line plots and bar plots. If you need other types of plots, do not hessitate to contact me, and I'll see what I can do."
   ]
  },
  {
   "cell_type": "code",
   "execution_count": 1,
   "metadata": {
    "collapsed": false
   },
   "outputs": [
    {
     "name": "stdout",
     "output_type": "stream",
     "text": [
      "Using matplotlib backend: MacOSX\n",
      "Populating the interactive namespace from numpy and matplotlib\n"
     ]
    }
   ],
   "source": [
    "from sklearn import datasets\n",
    "from matplotlib import pyplot as plt\n",
    "%pylab\n",
    "%matplotlib inline\n",
    "import numpy as np"
   ]
  },
  {
   "cell_type": "markdown",
   "metadata": {},
   "source": [
    "## Line and marker styles\n",
    "To get an idea of which line styles and markers are available we can inspect the lines and markers object"
   ]
  },
  {
   "cell_type": "code",
   "execution_count": 2,
   "metadata": {
    "collapsed": false
   },
   "outputs": [],
   "source": [
    "from matplotlib import lines, markers"
   ]
  },
  {
   "cell_type": "code",
   "execution_count": 3,
   "metadata": {
    "collapsed": false
   },
   "outputs": [
    {
     "data": {
      "text/plain": [
       "dict_keys(['', ' ', '--', ':', 'None', '-', '-.'])"
      ]
     },
     "execution_count": 3,
     "metadata": {},
     "output_type": "execute_result"
    }
   ],
   "source": [
    "lines.lineStyles.keys()"
   ]
  },
  {
   "cell_type": "code",
   "execution_count": 4,
   "metadata": {
    "collapsed": false
   },
   "outputs": [
    {
     "data": {
      "text/plain": [
       "dict_keys([0, 1, '*', 3, 4, 5, 6, 7, '8', 'None', 'd', 'h', 'D', 'v', None, '^', ',', '>', 'x', '<', 's', 'p', '', '2', '4', ' ', '_', 'o', '+', 'H', '|', 2, '1', '3', '.'])"
      ]
     },
     "execution_count": 4,
     "metadata": {},
     "output_type": "execute_result"
    }
   ],
   "source": [
    "markers.MarkerStyle.markers.keys()"
   ]
  },
  {
   "cell_type": "markdown",
   "metadata": {},
   "source": [
    "## Cycle through line and marker styles\n",
    "First we are going to create a [cycler](http://matplotlib.org/cycler/) object, that we will use to cycle through different styles. Using this object we can have a new line-style every time we plot a new line, and don't have to manually ensure that our lines are monochrome and different.\n",
    "\n",
    "Cycler objects can be composed of several cycler objects and will iterate over all permutations of its components forever. Let us create a cycler object that cycles through several *line* and *marker* styles all with the color blac**k**."
   ]
  },
  {
   "cell_type": "code",
   "execution_count": 5,
   "metadata": {
    "collapsed": false
   },
   "outputs": [
    {
     "name": "stdout",
     "output_type": "stream",
     "text": [
      "number of items in monochrome: 12\n",
      "0 {'color': 'k', 'linestyle': '-', 'marker': '^'}\n",
      "1 {'color': 'k', 'linestyle': '-', 'marker': ','}\n",
      "2 {'color': 'k', 'linestyle': '-', 'marker': '.'}\n",
      "3 {'color': 'k', 'linestyle': '--', 'marker': '^'}\n",
      "4 {'color': 'k', 'linestyle': '--', 'marker': ','}\n",
      "5 {'color': 'k', 'linestyle': '--', 'marker': '.'}\n",
      "6 {'color': 'k', 'linestyle': ':', 'marker': '^'}\n",
      "7 {'color': 'k', 'linestyle': ':', 'marker': ','}\n",
      "8 {'color': 'k', 'linestyle': ':', 'marker': '.'}\n",
      "9 {'color': 'k', 'linestyle': '=.', 'marker': '^'}\n",
      "10 {'color': 'k', 'linestyle': '=.', 'marker': ','}\n",
      "11 {'color': 'k', 'linestyle': '=.', 'marker': '.'}\n",
      "12 {'color': 'k', 'linestyle': '-', 'marker': '^'}\n",
      "13 {'color': 'k', 'linestyle': '-', 'marker': ','}\n",
      "14 {'color': 'k', 'linestyle': '-', 'marker': '.'}\n"
     ]
    }
   ],
   "source": [
    "from cycler import cycler\n",
    "\n",
    "# Create cycler object. Use any styling from above you please\n",
    "monochrome = (cycler('color', ['k']) * cycler('linestyle', ['-', '--', ':', '=.']) * cycler('marker', ['^',',', '.']))\n",
    "\n",
    "# Print examples of output from cycler object. \n",
    "# A cycler object, when called, returns a `iter.cycle` object that iterates over items indefinitely\n",
    "print(\"number of items in monochrome:\", len(monochrome))\n",
    "for i, item in zip(range(15), monochrome()):\n",
    "    print(i, item)"
   ]
  },
  {
   "cell_type": "code",
   "execution_count": 6,
   "metadata": {
    "collapsed": false
   },
   "outputs": [
    {
     "data": {
      "text/html": [
       "<table><th>'color'</th><th>'linestyle'</th><th>'marker'</th><tr><td>'k'</td><td>'-'</td><td>'^'</td></tr><tr><td>'k'</td><td>'-'</td><td>','</td></tr><tr><td>'k'</td><td>'-'</td><td>'.'</td></tr><tr><td>'k'</td><td>'--'</td><td>'^'</td></tr><tr><td>'k'</td><td>'--'</td><td>','</td></tr><tr><td>'k'</td><td>'--'</td><td>'.'</td></tr><tr><td>'k'</td><td>':'</td><td>'^'</td></tr><tr><td>'k'</td><td>':'</td><td>','</td></tr><tr><td>'k'</td><td>':'</td><td>'.'</td></tr><tr><td>'k'</td><td>'=.'</td><td>'^'</td></tr><tr><td>'k'</td><td>'=.'</td><td>','</td></tr><tr><td>'k'</td><td>'=.'</td><td>'.'</td></tr></table>"
      ],
      "text/plain": [
       "((cycler('color', ['k']) * cycler('linestyle', ['-', '--', ':', '=.'])) * cycler('marker', ['^', ',', '.']))"
      ]
     },
     "execution_count": 6,
     "metadata": {},
     "output_type": "execute_result"
    }
   ],
   "source": [
    "# ipython can also pretty pring our cycler object\n",
    "monochrome"
   ]
  },
  {
   "cell_type": "markdown",
   "metadata": {},
   "source": [
    "---\n",
    "## Create monochrome figure and axes object\n",
    "\n",
    "Most people learn matplotlib through `pyplot`, the command style functions that make matplotlib work like MATLAB. Meanwhile there is also the more direct approach, manupulating matplotlib objects directly. It is my experience that this is more powerful and as far as I can tell, we can't make monochrome plots without using the object-oriented interface, so in this tutorial I will try and use it as much as possible.\n",
    "\n",
    "It is however a cumbersome interface, so it appears that the people behind matplotlib recommends mixing both, so will I.\n",
    "\n",
    "First, let us take a look at an empty plot:"
   ]
  },
  {
   "cell_type": "code",
   "execution_count": 7,
   "metadata": {
    "collapsed": false
   },
   "outputs": [
    {
     "data": {
      "image/png": "[encoded data removed]",
      "text/plain": [
       "<matplotlib.figure.Figure at 0x106b243c8>"
      ]
     },
     "metadata": {},
     "output_type": "display_data"
    }
   ],
   "source": [
    "plt.plot();"
   ]
  },
  {
   "cell_type": "markdown",
   "metadata": {},
   "source": [
    "If we draw a number of lines, we can see that the default behavior of matplotlib is to give them different colors:"
   ]
  },
  {
   "cell_type": "code",
   "execution_count": 8,
   "metadata": {
    "collapsed": false
   },
   "outputs": [
    {
     "data": {
      "image/png": "[encoded data removed]",
      "text/plain": [
       "<matplotlib.figure.Figure at 0x106bc8160>"
      ]
     },
     "metadata": {},
     "output_type": "display_data"
    }
   ],
   "source": [
    "for i in range(1,5):\n",
    "    plt.plot(np.arange(10), np.arange(10)*i)"
   ]
  },
  {
   "cell_type": "markdown",
   "metadata": {},
   "source": [
    "---\n",
    "## Add a custom cycler\n",
    "Let us add the monochrome cycler as the default `prop_cycle` for the next plot. This plot we will generate using the object approach.\n",
    "The `subplots` function (notice the *s*) returns a `figure` object and any number of `axes` objects we ask it to. I find this the easiest way to get both of these objects, even for plots with only 1 ax."
   ]
  },
  {
   "cell_type": "code",
   "execution_count": 9,
   "metadata": {
    "collapsed": false
   },
   "outputs": [
    {
     "data": {
      "image/png": "[encoded data removed]",
      "text/plain": [
       "<matplotlib.figure.Figure at 0x10992a710>"
      ]
     },
     "metadata": {},
     "output_type": "display_data"
    }
   ],
   "source": [
    "fig, ax = plt.subplots(1,1)\n",
    "ax.set_prop_cycle(monochrome)\n",
    "for i in range(1,5):\n",
    "    ax.plot(np.arange(10), np.arange(10)*i)"
   ]
  },
  {
   "cell_type": "markdown",
   "metadata": {},
   "source": [
    "## Set a grid and clear the axis for a prettier plot"
   ]
  },
  {
   "cell_type": "code",
   "execution_count": 10,
   "metadata": {
    "collapsed": false
   },
   "outputs": [
    {
     "data": {
      "image/png": "[encoded data removed]",
      "text/plain": [
       "<matplotlib.figure.Figure at 0x1099ddf28>"
      ]
     },
     "metadata": {},
     "output_type": "display_data"
    }
   ],
   "source": [
    "fig, ax = plt.subplots(1,1)\n",
    "ax.set_prop_cycle(monochrome)\n",
    "ax.grid()\n",
    "ax.spines['top'].set_visible(False)\n",
    "ax.spines['right'].set_visible(False)\n",
    "ax.spines['bottom'].set_visible(False)\n",
    "ax.spines['left'].set_visible(False)\n",
    "for i in range(1,5):\n",
    "    ax.plot(np.arange(10), np.arange(10)*i)"
   ]
  },
  {
   "cell_type": "markdown",
   "metadata": {},
   "source": [
    "# Override styles for current script\n",
    "\n",
    "Writing all the `ax.set_grid ...` code for every figure is tedious. We can tell matplotlib to set all new figures with a particular style.\n",
    "\n",
    "All styles are saved in a dictionary in `plt.rcParams`. We can override its values manually for a single script and will do this now. You can also save your styles manually to a `.mplstyle`-file and load them at will. See [Customizing plots with stylesheets](http://matplotlib.org/users/style_sheets.html).\n",
    "\n",
    "You can load custom and builtin styles at will using `plt.style.use()` function. You can even load and combine several styles.\n",
    "\n",
    "Below we will just override entries in the `rcParams` dictionary manually, so that this notebook is not dependent on external files."
   ]
  },
  {
   "cell_type": "code",
   "execution_count": 11,
   "metadata": {
    "collapsed": false
   },
   "outputs": [],
   "source": [
    "# Overriding styles for current script\n",
    "plt.rcParams['axes.grid'] = True\n",
    "plt.rcParams['axes.prop_cycle'] = monochrome\n",
    "plt.rcParams['axes.spines.top'] = False\n",
    "plt.rcParams['axes.spines.right'] = False\n",
    "plt.rcParams['axes.spines.bottom'] = False\n",
    "plt.rcParams['axes.spines.left'] = False"
   ]
  },
  {
   "cell_type": "markdown",
   "metadata": {},
   "source": [
    "# Bar plots"
   ]
  },
  {
   "cell_type": "code",
   "execution_count": 12,
   "metadata": {
    "collapsed": false
   },
   "outputs": [
    {
     "data": {
      "image/png": "[encoded data removed]",
      "text/plain": [
       "<matplotlib.figure.Figure at 0x10992d0b8>"
      ]
     },
     "metadata": {},
     "output_type": "display_data"
    }
   ],
   "source": [
    "fig, ax = plt.subplots(1,1)\n",
    "\n",
    "for x in range(1,5):\n",
    "    ax.bar(x, np.random.randint(2,10))"
   ]
  },
  {
   "cell_type": "markdown",
   "metadata": {},
   "source": [
    "Now there are 3 problems with this barplot:\n",
    "\n",
    "1. The bars are colored\n",
    "2. The bars cannot be distinguished\n",
    "3. The grid is above the bars (will become a big problem when *1* is solved)\n",
    "\n",
    "We will color all the bars *white* and leave the black border. To distinguish the bars using only monochrome colors, we will paint them with *hatches* - repeating patterns. To place the bars in front of the grid, we will set their `zorder` to something high.\n",
    "\n",
    "More on *hatches*:\n",
    "* [Hatch demo, matplotlib documnetation](http://matplotlib.org/examples/pylab_examples/hatch_demo.html)\n",
    "* [Combining hatches and changing hatch spacing](http://www.collindelker.com/wp/2013/03/matplotlib-hatch-spacing/)\n",
    "* [List of all possible hatch patterns](http://matplotlib.org/api/collections_api.html?highlight=set_hatch#matplotlib.collections.Collection.set_hatch)"
   ]
  },
  {
   "cell_type": "code",
   "execution_count": 13,
   "metadata": {
    "collapsed": false
   },
   "outputs": [
    {
     "data": {
      "image/png": "[encoded data removed]",
      "text/plain": [
       "<matplotlib.figure.Figure at 0x1099d0e48>"
      ]
     },
     "metadata": {},
     "output_type": "display_data"
    }
   ],
   "source": [
    "fig, ax = plt.subplots(1,1)\n",
    "\n",
    "bar_cycle = (cycler('hatch', ['///', '--', '...','\\///', 'xxx', '\\\\\\\\']) * cycler('color', 'w')*cycler('zorder', [10]))\n",
    "styles = bar_cycle()\n",
    "\n",
    "for x in range(1,5):\n",
    "    ax.bar(x, np.random.randint(2,10), **next(styles))"
   ]
  },
  {
   "cell_type": "markdown",
   "metadata": {
    "collapsed": true
   },
   "source": [
    "# Further reading / sources\n",
    "\n",
    "* [Matplotlib basic guide](http://matplotlib.org/users/pyplot_tutorial.html). Official tutorial teaching the command style\n",
    "* [Matplotlib advanced guide](http://matplotlib.org/users/developer.html#advanced-guide). The best introduction to how to use matplotlib via the object oriented interface.\n",
    "* [Stackoverflow on hatches](http://stackoverflow.com/a/38120100)\n",
    "* [Documentation for cycler](http://matplotlib.org/cycler/). Has a lot of good examples on how to use cyclers for various kinds of datas. Especially check out how they use `defaultdict` with cyclers to add stylings to groups of arbitrary names."
   ]
  },
  {
   "cell_type": "code",
   "execution_count": null,
   "metadata": {
    "collapsed": true
   },
   "outputs": [],
   "source": []
  }
 ],
 "metadata": {
  "kernelspec": {
   "display_name": "Python 3",
   "language": "python",
   "name": "python3"
  },
  "language_info": {
   "codemirror_mode": {
    "name": "ipython",
    "version": 3
   },
   "file_extension": ".py",
   "mimetype": "text/x-python",
   "name": "python",
   "nbconvert_exporter": "python",
   "pygments_lexer": "ipython3",
   "version": "3.5.2"
  }
 },
 "nbformat": 4,
 "nbformat_minor": 0
}
